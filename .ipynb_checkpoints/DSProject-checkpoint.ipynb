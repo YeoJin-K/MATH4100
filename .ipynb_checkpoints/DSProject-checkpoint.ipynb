{
 "cells": [
  {
   "cell_type": "markdown",
   "id": "3545da74-f030-46bd-a168-5acb199543ac",
   "metadata": {},
   "source": [
    "# Project Title: \n",
    "## Team Info\n",
    "*Name:* Yeojin Kim     \n",
    "*E-mail:* u1375950@utah.edu    \n",
    "*UID:* u1375950\n",
    "\n",
    "*Name:*     \n",
    "*E-mail:*   \n",
    "*UID:* \n",
    "\n",
    "*Name:*     \n",
    "*E-mail:*   \n",
    "*UID:* "
   ]
  },
  {
   "cell_type": "markdown",
   "id": "29de8118-6e9b-4afc-8b41-dee81af3e4a1",
   "metadata": {},
   "source": [
    "## Background and Motivation"
   ]
  },
  {
   "cell_type": "markdown",
   "id": "b98b51c2-1650-4efe-9522-435a23268748",
   "metadata": {},
   "source": [
    "## Project Objectives"
   ]
  },
  {
   "cell_type": "markdown",
   "id": "035e11c0-30a8-4973-85c4-97536a9edc5b",
   "metadata": {},
   "source": [
    "## Data Description and Acquisition"
   ]
  },
  {
   "cell_type": "markdown",
   "id": "fc630616-1194-4d7a-a428-224026f206d3",
   "metadata": {},
   "source": [
    "## Ethical Considerations"
   ]
  },
  {
   "cell_type": "markdown",
   "id": "e6933c71-449b-4ab4-80c9-697d36a8f008",
   "metadata": {},
   "source": [
    "## Data Cleaning and Processing"
   ]
  },
  {
   "cell_type": "markdown",
   "id": "302c0693-bf9b-4d95-8a89-70548f205b94",
   "metadata": {},
   "source": [
    "## Exploratory Analysis"
   ]
  },
  {
   "cell_type": "markdown",
   "id": "8eaf0e16-9c79-47d0-9546-821517f3c72c",
   "metadata": {},
   "source": [
    "## Analysis Methodology"
   ]
  }
 ],
 "metadata": {
  "kernelspec": {
   "display_name": "Python 3 (ipykernel)",
   "language": "python",
   "name": "python3"
  },
  "language_info": {
   "codemirror_mode": {
    "name": "ipython",
    "version": 3
   },
   "file_extension": ".py",
   "mimetype": "text/x-python",
   "name": "python",
   "nbconvert_exporter": "python",
   "pygments_lexer": "ipython3",
   "version": "3.12.7"
  }
 },
 "nbformat": 4,
 "nbformat_minor": 5
}
