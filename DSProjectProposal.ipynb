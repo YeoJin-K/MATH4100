{
 "cells": [
  {
   "cell_type": "markdown",
   "id": "3545da74-f030-46bd-a168-5acb199543ac",
   "metadata": {},
   "source": [
    "# Can We Predict Tomorrow's Snow?: A Data-Driven Approach\n",
    "## Team Info\n",
    "*Name:* Yeojin Kim     \n",
    "*E-mail:* u1375950@utah.edu    \n",
    "*UID:* u1375950\n",
    "\n",
    "*Name:*    Daniel Collins   \n",
    "*E-mail:*   u1513590@utah.edu   \n",
    "*UID:* u1513590  \n",
    "\n",
    "*Name:*     Hugo Hoyer   \n",
    "*E-mail:*   u1505072@utah.edu   \n",
    "*UID:*  u1505072"
   ]
  },
  {
   "cell_type": "markdown",
   "id": "29de8118-6e9b-4afc-8b41-dee81af3e4a1",
   "metadata": {},
   "source": [
    "## Background and Motivation\n",
    "We would like to analyze weather data to determine which factors strongly predict next-day snowfall. Weather affects our daily routine in various ways, especially snowfall on winter days. For instance,  as college students, a sudden snowstorm can disrupt commuting and sometimes, just the whole day schedule. And we all know snowfall can have a significant impact on many other areas including transportation, infrastructure, agriculture and outdoor activities. Understanding which weather conditions are strong indicators of next-day snowfall can help individuals or organizations make better decisions or take precautions.\n"
   ]
  },
  {
   "cell_type": "markdown",
   "id": "b98b51c2-1650-4efe-9522-435a23268748",
   "metadata": {},
   "source": [
    "## Project Objectives\n",
    "The main question we are trying to answer with this project is, what weather variables, from the previous day, affect/predict the total snowfall for the following day. Alongside this, as models that predict the total snowfall already exist, we also want to see how accurate the predictions from our model are when compared to pre-existing ones. Determining which weather variables provide the most accuracy while not overfitting the data is the primary learning objective."
   ]
  },
  {
   "cell_type": "markdown",
   "id": "035e11c0-30a8-4973-85c4-97536a9edc5b",
   "metadata": {},
   "source": [
    "## Data Description and Acquisition\n",
    "We are getting our data from [Weatherstack](https://weatherstack.com/documentation), a world weather data API. The site does require an account to get an API key and to use the historical data that we need for the project. We have an account with the standard plan (50,000 requests), which costs $9 in total. The data we would collect and compile into a pandas data frame would be: Daily (mintemp, maxtemp, avgtemp, totalsnow, uv_index), and Hourly (humidity, pressure, weather_code, heatindex) [hourly gathered at 1:00 pm]. This would be 10 total items per day (row) when including the totalsnow for the next day. There are no special structures, and the data from each API request is returned in JSON formatting.\n"
   ]
  },
  {
   "cell_type": "markdown",
   "id": "fc630616-1194-4d7a-a428-224026f206d3",
   "metadata": {},
   "source": [
    "## Ethical Considerations\n",
    "The hardest part of determining what the ethical considerations and risks for this project could be was that weather prediction/forecasting for total snowfall is already available and used worldwide. As such, many of the factors that would be ethical concerns (i.e., misinterpreting results, worse accuracy for ‘poorer’ locations, etc…) are lessened as any outcome of the project would not cause people to be affected as more accurate/refined models are already prevalent and widely used. While we should, and will, keep these ethical considerations in mind, it is hard to see how any harm could come from this project; if the project is less accurate than existing models, it will not be adopted, and if (somehow) it is better than current models, it will lessen the harm that comes from inaccurate forecasts."
   ]
  },
  {
   "cell_type": "markdown",
   "id": "e6933c71-449b-4ab4-80c9-697d36a8f008",
   "metadata": {},
   "source": [
    "## Data Cleaning and Processing\n",
    "We plan to gather all the data and make it into a Pandas DataFrame, and then filter out whatever values we do not need for analyzing snowfall. First, we will drop all the data from the months where no snow was recorded, which will likely be about 4-5 months. We will then look for what characteristics correlate most strongly with snowfall, which we expect to be factors like temperature and humidity, and then filter out everything that does not seem to be important. Once all of that is done, we will make sure it is formatted in a way that is easy to read and analyze.\n"
   ]
  },
  {
   "cell_type": "markdown",
   "id": "302c0693-bf9b-4d95-8a89-70548f205b94",
   "metadata": {},
   "source": [
    "## Exploratory Analysis\n",
    "For univariate analysis, we would like to make histograms to visually analyze the distribution of each variable (e.g., temperature, humidity, pressure ...).    \n",
    "And for multivariate analysis, correlation heatmap (Seaborn), scatter plots, and pair plots will show the relations between multiple variables and correlation with next-day snowfall."
   ]
  },
  {
   "cell_type": "markdown",
   "id": "8eaf0e16-9c79-47d0-9546-821517f3c72c",
   "metadata": {},
   "source": [
    "## Analysis Methodology\n",
    "### Key Research Questions\n",
    "1. What weather variables correlate the most with next-day snowfall?\n",
    "2. Can we build a model that predicts next-day snowfall based on today’s conditions?\n",
    "3. Does snowfall prediction improve if we use multiple weather variables instead of just one?\n",
    "4. Are there specific thresholds for variables (e.g. temperature below a certain point) that strongly indicate snowfall?\n",
    "\n",
    "To get the correlation, we can run t-test. T-test is useful when we want to see if a specific variable (e.g., temperature, humidity) significantly differs on snowy days or non snowy days. For example, we can compare temperature on snowfall vs. non-snowfall days by getting p-value from t-statistics using scipy.stats and statsmodels libraries in Python. \n",
    "\n",
    "We can also build various regression models. Simple linear regression model will show if snowfall has a linear relationship with variables. If multiple variables contribute to snowfall, multiple regression model is needed. To get the model that predicts next-day snowfall, we can build logistic regression model. This model will also help us get a probability-based threshold for variables that are strongly related to snowfall.\n"
   ]
  }
 ],
 "metadata": {
  "kernelspec": {
   "display_name": "Python 3 (ipykernel)",
   "language": "python",
   "name": "python3"
  },
  "language_info": {
   "codemirror_mode": {
    "name": "ipython",
    "version": 3
   },
   "file_extension": ".py",
   "mimetype": "text/x-python",
   "name": "python",
   "nbconvert_exporter": "python",
   "pygments_lexer": "ipython3",
   "version": "3.12.7"
  }
 },
 "nbformat": 4,
 "nbformat_minor": 5
}
